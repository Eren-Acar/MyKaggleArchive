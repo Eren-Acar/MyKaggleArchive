{
 "cells": [
  {
   "cell_type": "code",
   "execution_count": 14,
   "metadata": {},
   "outputs": [],
   "source": [
    "import pandas as pd\n",
    "from sklearn.model_selection import train_test_split\n",
    "from sklearn.linear_model import LogisticRegression\n",
    "from sklearn.metrics import accuracy_score, classification_report\n",
    "from sklearn.preprocessing import OneHotEncoder\n",
    "import numpy as np\n"
   ]
  },
  {
   "cell_type": "code",
   "execution_count": 15,
   "metadata": {},
   "outputs": [
    {
     "data": {
      "text/html": [
       "<div>\n",
       "<style scoped>\n",
       "    .dataframe tbody tr th:only-of-type {\n",
       "        vertical-align: middle;\n",
       "    }\n",
       "\n",
       "    .dataframe tbody tr th {\n",
       "        vertical-align: top;\n",
       "    }\n",
       "\n",
       "    .dataframe thead th {\n",
       "        text-align: right;\n",
       "    }\n",
       "</style>\n",
       "<table border=\"1\" class=\"dataframe\">\n",
       "  <thead>\n",
       "    <tr style=\"text-align: right;\">\n",
       "      <th></th>\n",
       "      <th>INDEX</th>\n",
       "      <th>COUNTRIES</th>\n",
       "      <th>UNIVERSITIES</th>\n",
       "      <th>FACULTIES</th>\n",
       "      <th>DEPARTMENTS</th>\n",
       "      <th>EXAM SCORE</th>\n",
       "      <th>GRANT</th>\n",
       "    </tr>\n",
       "  </thead>\n",
       "  <tbody>\n",
       "    <tr>\n",
       "      <th>0</th>\n",
       "      <td>1</td>\n",
       "      <td>ITALIA</td>\n",
       "      <td>UNIVERSITA DEGLI STUDI DI ROMA LA SAPIENZA</td>\n",
       "      <td>FACULTY OF ARTS AND SCIENCES</td>\n",
       "      <td>ENGLISH LANGUAGE AND LITERATURE</td>\n",
       "      <td>98.50</td>\n",
       "      <td>1</td>\n",
       "    </tr>\n",
       "    <tr>\n",
       "      <th>1</th>\n",
       "      <td>2</td>\n",
       "      <td>ITALIA</td>\n",
       "      <td>ALMA MATER STUDIORUM - UNIVERSITA DI BOLOGNA</td>\n",
       "      <td>FACULTY OF ARTS AND SCIENCES</td>\n",
       "      <td>SOCIOLOGY</td>\n",
       "      <td>97.10</td>\n",
       "      <td>1</td>\n",
       "    </tr>\n",
       "    <tr>\n",
       "      <th>2</th>\n",
       "      <td>3</td>\n",
       "      <td>GERMAN</td>\n",
       "      <td>UNIVERSITAET BIELEFELD</td>\n",
       "      <td>FACULTY OF ARTS AND SCIENCES</td>\n",
       "      <td>PSYCHOLOGY</td>\n",
       "      <td>96.80</td>\n",
       "      <td>1</td>\n",
       "    </tr>\n",
       "    <tr>\n",
       "      <th>3</th>\n",
       "      <td>4</td>\n",
       "      <td>GERMAN</td>\n",
       "      <td>HOCHSCHULE FUR ANGEWANDTE WISSENSCHAFTEN HAMBURG</td>\n",
       "      <td>FACULTY OF HEALTH SCIENCES</td>\n",
       "      <td>NUTRITION AND DIETETICS</td>\n",
       "      <td>96.50</td>\n",
       "      <td>1</td>\n",
       "    </tr>\n",
       "    <tr>\n",
       "      <th>4</th>\n",
       "      <td>5</td>\n",
       "      <td>ITALIA</td>\n",
       "      <td>UNIVERSITA DEGLI STUDI DI ROMA LA SAPIENZA</td>\n",
       "      <td>FACULTY OF ARTS AND SCIENCES</td>\n",
       "      <td>ENGLISH LANGUAGE AND LITERATURE</td>\n",
       "      <td>96.32</td>\n",
       "      <td>1</td>\n",
       "    </tr>\n",
       "  </tbody>\n",
       "</table>\n",
       "</div>"
      ],
      "text/plain": [
       "   INDEX COUNTRIES                                      UNIVERSITIES  \\\n",
       "0      1    ITALIA        UNIVERSITA DEGLI STUDI DI ROMA LA SAPIENZA   \n",
       "1      2    ITALIA      ALMA MATER STUDIORUM - UNIVERSITA DI BOLOGNA   \n",
       "2      3    GERMAN                            UNIVERSITAET BIELEFELD   \n",
       "3      4    GERMAN  HOCHSCHULE FUR ANGEWANDTE WISSENSCHAFTEN HAMBURG   \n",
       "4      5    ITALIA       UNIVERSITA DEGLI STUDI DI ROMA LA SAPIENZA    \n",
       "\n",
       "                      FACULTIES                      DEPARTMENTS  EXAM SCORE  \\\n",
       "0  FACULTY OF ARTS AND SCIENCES  ENGLISH LANGUAGE AND LITERATURE       98.50   \n",
       "1  FACULTY OF ARTS AND SCIENCES                        SOCIOLOGY       97.10   \n",
       "2  FACULTY OF ARTS AND SCIENCES                       PSYCHOLOGY       96.80   \n",
       "3    FACULTY OF HEALTH SCIENCES          NUTRITION AND DIETETICS       96.50   \n",
       "4  FACULTY OF ARTS AND SCIENCES  ENGLISH LANGUAGE AND LITERATURE       96.32   \n",
       "\n",
       "   GRANT  \n",
       "0      1  \n",
       "1      1  \n",
       "2      1  \n",
       "3      1  \n",
       "4      1  "
      ]
     },
     "execution_count": 15,
     "metadata": {},
     "output_type": "execute_result"
    }
   ],
   "source": [
    "df = pd.read_csv('erasmus.csv')\n",
    "df.head()"
   ]
  },
  {
   "cell_type": "code",
   "execution_count": 16,
   "metadata": {},
   "outputs": [
    {
     "data": {
      "text/html": [
       "<div>\n",
       "<style scoped>\n",
       "    .dataframe tbody tr th:only-of-type {\n",
       "        vertical-align: middle;\n",
       "    }\n",
       "\n",
       "    .dataframe tbody tr th {\n",
       "        vertical-align: top;\n",
       "    }\n",
       "\n",
       "    .dataframe thead th {\n",
       "        text-align: right;\n",
       "    }\n",
       "</style>\n",
       "<table border=\"1\" class=\"dataframe\">\n",
       "  <thead>\n",
       "    <tr style=\"text-align: right;\">\n",
       "      <th></th>\n",
       "      <th>INDEX</th>\n",
       "      <th>EXAM SCORE</th>\n",
       "      <th>GRANT</th>\n",
       "    </tr>\n",
       "  </thead>\n",
       "  <tbody>\n",
       "    <tr>\n",
       "      <th>count</th>\n",
       "      <td>341.000000</td>\n",
       "      <td>341.000000</td>\n",
       "      <td>341.000000</td>\n",
       "    </tr>\n",
       "    <tr>\n",
       "      <th>mean</th>\n",
       "      <td>171.000000</td>\n",
       "      <td>79.138944</td>\n",
       "      <td>0.434018</td>\n",
       "    </tr>\n",
       "    <tr>\n",
       "      <th>std</th>\n",
       "      <td>98.582453</td>\n",
       "      <td>8.565175</td>\n",
       "      <td>0.496356</td>\n",
       "    </tr>\n",
       "    <tr>\n",
       "      <th>min</th>\n",
       "      <td>1.000000</td>\n",
       "      <td>51.400000</td>\n",
       "      <td>0.000000</td>\n",
       "    </tr>\n",
       "    <tr>\n",
       "      <th>25%</th>\n",
       "      <td>86.000000</td>\n",
       "      <td>73.570000</td>\n",
       "      <td>0.000000</td>\n",
       "    </tr>\n",
       "    <tr>\n",
       "      <th>50%</th>\n",
       "      <td>171.000000</td>\n",
       "      <td>79.300000</td>\n",
       "      <td>0.000000</td>\n",
       "    </tr>\n",
       "    <tr>\n",
       "      <th>75%</th>\n",
       "      <td>256.000000</td>\n",
       "      <td>85.280000</td>\n",
       "      <td>1.000000</td>\n",
       "    </tr>\n",
       "    <tr>\n",
       "      <th>max</th>\n",
       "      <td>341.000000</td>\n",
       "      <td>98.500000</td>\n",
       "      <td>1.000000</td>\n",
       "    </tr>\n",
       "  </tbody>\n",
       "</table>\n",
       "</div>"
      ],
      "text/plain": [
       "            INDEX  EXAM SCORE       GRANT\n",
       "count  341.000000  341.000000  341.000000\n",
       "mean   171.000000   79.138944    0.434018\n",
       "std     98.582453    8.565175    0.496356\n",
       "min      1.000000   51.400000    0.000000\n",
       "25%     86.000000   73.570000    0.000000\n",
       "50%    171.000000   79.300000    0.000000\n",
       "75%    256.000000   85.280000    1.000000\n",
       "max    341.000000   98.500000    1.000000"
      ]
     },
     "execution_count": 16,
     "metadata": {},
     "output_type": "execute_result"
    }
   ],
   "source": [
    "df.describe()"
   ]
  },
  {
   "cell_type": "code",
   "execution_count": 17,
   "metadata": {},
   "outputs": [
    {
     "name": "stdout",
     "output_type": "stream",
     "text": [
      "<class 'pandas.core.frame.DataFrame'>\n",
      "RangeIndex: 341 entries, 0 to 340\n",
      "Data columns (total 7 columns):\n",
      " #   Column        Non-Null Count  Dtype  \n",
      "---  ------        --------------  -----  \n",
      " 0   INDEX         341 non-null    int64  \n",
      " 1   COUNTRIES     341 non-null    object \n",
      " 2   UNIVERSITIES  341 non-null    object \n",
      " 3   FACULTIES     341 non-null    object \n",
      " 4   DEPARTMENTS   339 non-null    object \n",
      " 5   EXAM SCORE    341 non-null    float64\n",
      " 6   GRANT         341 non-null    int64  \n",
      "dtypes: float64(1), int64(2), object(4)\n",
      "memory usage: 18.8+ KB\n"
     ]
    }
   ],
   "source": [
    "df.info()"
   ]
  },
  {
   "cell_type": "code",
   "execution_count": 18,
   "metadata": {},
   "outputs": [],
   "source": [
    "# Drop the rows with missing values\n",
    "df = df.dropna()\n"
   ]
  },
  {
   "cell_type": "code",
   "execution_count": 19,
   "metadata": {},
   "outputs": [
    {
     "name": "stdout",
     "output_type": "stream",
     "text": [
      "<class 'pandas.core.frame.DataFrame'>\n",
      "Index: 339 entries, 0 to 340\n",
      "Data columns (total 7 columns):\n",
      " #   Column        Non-Null Count  Dtype  \n",
      "---  ------        --------------  -----  \n",
      " 0   INDEX         339 non-null    int64  \n",
      " 1   COUNTRIES     339 non-null    object \n",
      " 2   UNIVERSITIES  339 non-null    object \n",
      " 3   FACULTIES     339 non-null    object \n",
      " 4   DEPARTMENTS   339 non-null    object \n",
      " 5   EXAM SCORE    339 non-null    float64\n",
      " 6   GRANT         339 non-null    int64  \n",
      "dtypes: float64(1), int64(2), object(4)\n",
      "memory usage: 21.2+ KB\n"
     ]
    }
   ],
   "source": [
    "df.info()"
   ]
  },
  {
   "cell_type": "code",
   "execution_count": 20,
   "metadata": {},
   "outputs": [
    {
     "data": {
      "text/plain": [
       "FACULTIES\n",
       "FACULTY OF ECONOMICS AND ADMINISTRATIVE SCIENCES    73\n",
       "FACULTY OF ENGINEERING                              69\n",
       "FACULTY OF ARTS AND SCIENCES                        53\n",
       "FACULTY OF COMMUNICATION                            32\n",
       "FACULTY OF LAW                                      23\n",
       " FACULTY OF COMPUTER AND INFORMATION SCIENCES       22\n",
       "FACULTY OF ARCHITECTURE                             18\n",
       "FACULTY OF HEALTH SCIENCES                          16\n",
       "FACULTY OF EDUCATION                                16\n",
       "FACULTY OF FINE ARTS                                 8\n",
       "FACULTY OF PHARMACY                                  5\n",
       "FACULTY OF MEDICINE                                  2\n",
       "GRADUATE SCHOOL OF SOCIAL SCIENCES                   2\n",
       "Name: count, dtype: int64"
      ]
     },
     "execution_count": 20,
     "metadata": {},
     "output_type": "execute_result"
    }
   ],
   "source": [
    "#Whether a student can receive a grant depends on their faculty (because each faculty has its own criteria and contingent) and exam score. \n",
    "#So, we may need to examine FACULTIES column.\n",
    "df['FACULTIES'].value_counts()"
   ]
  },
  {
   "cell_type": "code",
   "execution_count": 21,
   "metadata": {},
   "outputs": [
    {
     "data": {
      "text/html": [
       "<div>\n",
       "<style scoped>\n",
       "    .dataframe tbody tr th:only-of-type {\n",
       "        vertical-align: middle;\n",
       "    }\n",
       "\n",
       "    .dataframe tbody tr th {\n",
       "        vertical-align: top;\n",
       "    }\n",
       "\n",
       "    .dataframe thead th {\n",
       "        text-align: right;\n",
       "    }\n",
       "</style>\n",
       "<table border=\"1\" class=\"dataframe\">\n",
       "  <thead>\n",
       "    <tr style=\"text-align: right;\">\n",
       "      <th></th>\n",
       "      <th>INDEX</th>\n",
       "      <th>COUNTRIES</th>\n",
       "      <th>UNIVERSITIES</th>\n",
       "      <th>FACULTIES</th>\n",
       "      <th>DEPARTMENTS</th>\n",
       "      <th>EXAM SCORE</th>\n",
       "      <th>GRANT</th>\n",
       "    </tr>\n",
       "  </thead>\n",
       "  <tbody>\n",
       "    <tr>\n",
       "      <th>158</th>\n",
       "      <td>159</td>\n",
       "      <td>POLAND</td>\n",
       "      <td>WYZSZA SZKOLA MENEDZERSKA W WARSZAWİE</td>\n",
       "      <td>GRADUATE SCHOOL OF SOCIAL SCIENCES</td>\n",
       "      <td>BUSINESS ADMINISTRATION</td>\n",
       "      <td>79.83</td>\n",
       "      <td>1</td>\n",
       "    </tr>\n",
       "    <tr>\n",
       "      <th>228</th>\n",
       "      <td>229</td>\n",
       "      <td>BELGIUM</td>\n",
       "      <td>KATHOLIEKE UNIVERSITEIT LEUVEN</td>\n",
       "      <td>GRADUATE SCHOOL OF SOCIAL SCIENCES</td>\n",
       "      <td>PRICATE LAW</td>\n",
       "      <td>75.77</td>\n",
       "      <td>1</td>\n",
       "    </tr>\n",
       "    <tr>\n",
       "      <th>49</th>\n",
       "      <td>50</td>\n",
       "      <td>SLOVENIA</td>\n",
       "      <td>UNIVERZA V LJUBLJANI</td>\n",
       "      <td>FACULTY OF MEDICINE</td>\n",
       "      <td>MEDICINE</td>\n",
       "      <td>88.55</td>\n",
       "      <td>1</td>\n",
       "    </tr>\n",
       "    <tr>\n",
       "      <th>340</th>\n",
       "      <td>341</td>\n",
       "      <td>GERMAN</td>\n",
       "      <td>JULIUS-MAXIMILIANS-UNIVERSITAT WURZBURG</td>\n",
       "      <td>FACULTY OF MEDICINE</td>\n",
       "      <td>MEDICINE</td>\n",
       "      <td>51.40</td>\n",
       "      <td>0</td>\n",
       "    </tr>\n",
       "  </tbody>\n",
       "</table>\n",
       "</div>"
      ],
      "text/plain": [
       "     INDEX COUNTRIES                             UNIVERSITIES  \\\n",
       "158    159    POLAND    WYZSZA SZKOLA MENEDZERSKA W WARSZAWİE   \n",
       "228    229   BELGIUM           KATHOLIEKE UNIVERSITEIT LEUVEN   \n",
       "49      50  SLOVENIA                     UNIVERZA V LJUBLJANI   \n",
       "340    341    GERMAN  JULIUS-MAXIMILIANS-UNIVERSITAT WURZBURG   \n",
       "\n",
       "                              FACULTIES              DEPARTMENTS  EXAM SCORE  \\\n",
       "158  GRADUATE SCHOOL OF SOCIAL SCIENCES  BUSINESS ADMINISTRATION       79.83   \n",
       "228  GRADUATE SCHOOL OF SOCIAL SCIENCES              PRICATE LAW       75.77   \n",
       "49                  FACULTY OF MEDICINE                 MEDICINE       88.55   \n",
       "340                 FACULTY OF MEDICINE                 MEDICINE       51.40   \n",
       "\n",
       "     GRANT  \n",
       "158      1  \n",
       "228      1  \n",
       "49       1  \n",
       "340      0  "
      ]
     },
     "execution_count": 21,
     "metadata": {},
     "output_type": "execute_result"
    }
   ],
   "source": [
    "#So, there are two faculties that they have fewer students. \n",
    "#One of them is GRADUATE SCHOOL OF SOCIAL SCIENCES and other is FACULTY OF MEDICINE. We may need to examine these separately.\n",
    "#For to do the this, we can use concat method in pandas library.\n",
    "graduate_school_of_social_sciences = df[df['FACULTIES'] == 'GRADUATE SCHOOL OF SOCIAL SCIENCES']\n",
    "faculty_of_medicine = df[df['FACULTIES'] == 'FACULTY OF MEDICINE']\n",
    "\n",
    "concat = pd.concat([graduate_school_of_social_sciences, faculty_of_medicine])\n",
    "concat"
   ]
  },
  {
   "cell_type": "code",
   "execution_count": 22,
   "metadata": {},
   "outputs": [
    {
     "data": {
      "text/plain": [
       "FACULTIES\n",
       "FACULTY OF ECONOMICS AND ADMINISTRATIVE SCIENCES    73\n",
       "FACULTY OF ENGINEERING                              69\n",
       "FACULTY OF ARTS AND SCIENCES                        53\n",
       "FACULTY OF COMMUNICATION                            32\n",
       "FACULTY OF LAW                                      23\n",
       " FACULTY OF COMPUTER AND INFORMATION SCIENCES       22\n",
       "FACULTY OF ARCHITECTURE                             18\n",
       "FACULTY OF HEALTH SCIENCES                          16\n",
       "FACULTY OF EDUCATION                                16\n",
       "FACULTY OF FINE ARTS                                 8\n",
       "FACULTY OF MEDICINE                                  2\n",
       "Name: count, dtype: int64"
      ]
     },
     "execution_count": 22,
     "metadata": {},
     "output_type": "execute_result"
    }
   ],
   "source": [
    "#Unlike the FACULTY OF MEDICINE, all students at the GRADUATE SCHOOL OF SOCIAL SCIENCES received grants.\n",
    "#This can cause problems when making predictions. So, if all students in a faculty receive grant, we need to remove that faculty from the dataset.\n",
    "#We can use a loop that provides this functionality.\n",
    "\n",
    "faculties = df['FACULTIES'].unique() #to store all faculties\n",
    "\n",
    "for faculty in faculties:\n",
    "    faculty_data = df[df['FACULTIES'] == faculty]\n",
    "    if len(faculty_data['GRANT'].unique()) == 1:\n",
    "        df = df[df['FACULTIES'] != faculty]\n",
    "\n",
    "df['FACULTIES'].value_counts()\n",
    "#Now, there is no GRADUATE SCHOOL OF SOCIAL SCIENCES"
   ]
  },
  {
   "cell_type": "code",
   "execution_count": 23,
   "metadata": {},
   "outputs": [],
   "source": [
    "#to define the input and output variables\n",
    "x = df[['EXAM SCORE', 'FACULTIES']]\n",
    "y = df['GRANT']\n",
    "\n",
    "#FACULTIES column is a categorical column. So, we need to convert it to numerical values.\n",
    "encoder = OneHotEncoder()\n",
    "x_encoded = encoder.fit_transform(x[['FACULTIES']])\n",
    "\n",
    "#Merge the encoded FACULTIES column with the EXAM SCORE column.\n",
    "x_final = np.hstack((x[['EXAM SCORE']].values, x_encoded.toarray()))"
   ]
  },
  {
   "cell_type": "code",
   "execution_count": 24,
   "metadata": {},
   "outputs": [
    {
     "name": "stderr",
     "output_type": "stream",
     "text": [
      "C:\\Users\\sifre\\AppData\\Local\\Packages\\PythonSoftwareFoundation.Python.3.11_qbz5n2kfra8p0\\LocalCache\\local-packages\\Python311\\site-packages\\sklearn\\linear_model\\_logistic.py:469: ConvergenceWarning: lbfgs failed to converge (status=1):\n",
      "STOP: TOTAL NO. of ITERATIONS REACHED LIMIT.\n",
      "\n",
      "Increase the number of iterations (max_iter) or scale the data as shown in:\n",
      "    https://scikit-learn.org/stable/modules/preprocessing.html\n",
      "Please also refer to the documentation for alternative solver options:\n",
      "    https://scikit-learn.org/stable/modules/linear_model.html#logistic-regression\n",
      "  n_iter_i = _check_optimize_result(\n"
     ]
    }
   ],
   "source": [
    "#Split the data into training and test sets, using 20% of data for training.\n",
    "x_train, x_test, y_train, y_test = train_test_split(x_final, y, test_size=0.2, random_state=37)\n",
    "\n",
    "#Create a logistic regression model and train it.\n",
    "model = LogisticRegression()\n",
    "model.fit(x_train, y_train)\n",
    "\n",
    "#Make predictions on the test set.\n",
    "y_pred = model.predict(x_test)\n"
   ]
  },
  {
   "cell_type": "code",
   "execution_count": 25,
   "metadata": {},
   "outputs": [
    {
     "name": "stdout",
     "output_type": "stream",
     "text": [
      "Accuracy: 0.9850746268656716\n",
      "-------------------------------------------------------------\n",
      "Classification Report:\n",
      "              precision    recall  f1-score   support\n",
      "\n",
      "           0       0.98      1.00      0.99        42\n",
      "           1       1.00      0.96      0.98        25\n",
      "\n",
      "    accuracy                           0.99        67\n",
      "   macro avg       0.99      0.98      0.98        67\n",
      "weighted avg       0.99      0.99      0.99        67\n",
      "\n"
     ]
    }
   ],
   "source": [
    "#results\n",
    "score = model.score(x_test, y_test)\n",
    "print('Accuracy:', score)\n",
    "print(61 * '-')\n",
    "print('Classification Report:')\n",
    "print(classification_report(y_test, y_pred))\n"
   ]
  }
 ],
 "metadata": {
  "kernelspec": {
   "display_name": "Python 3",
   "language": "python",
   "name": "python3"
  },
  "language_info": {
   "codemirror_mode": {
    "name": "ipython",
    "version": 3
   },
   "file_extension": ".py",
   "mimetype": "text/x-python",
   "name": "python",
   "nbconvert_exporter": "python",
   "pygments_lexer": "ipython3",
   "version": "3.11.9"
  }
 },
 "nbformat": 4,
 "nbformat_minor": 2
}
